{
 "cells": [
  {
   "cell_type": "markdown",
   "id": "a18bb485-f419-4d9f-ba22-fda6233d73ac",
   "metadata": {},
   "source": [
    "# *p*-Adic Signals for $\\pmb{\\text{GL}_1(\\mathbb{Q}_p)}$."
   ]
  },
  {
   "cell_type": "code",
   "execution_count": 32,
   "id": "b624f716-1650-4cd1-8eb3-2b859aef5e1d",
   "metadata": {},
   "outputs": [],
   "source": [
    "import copy"
   ]
  },
  {
   "cell_type": "markdown",
   "id": "f1cd3ba4-e3bf-48c2-ba2f-21fef97ee3ab",
   "metadata": {},
   "source": [
    "## Outline."
   ]
  },
  {
   "cell_type": "markdown",
   "id": "ce7f6256-58ff-4f55-b70d-c59663d5edef",
   "metadata": {},
   "source": [
    "### Class: `p_Approx`\n",
    "Approximates a non-zero $p$-adic number up to a given order (modulo the number's norm). An instance of `p_Approx` represents an \"order-$m$ unit-truncated\" $p$-adic number\n",
    "$$\n",
    "a\\ =\\ p^n\\cdot(a_0+a_1 p+a_2 p^2+\\cdots+a_m p^m)\n",
    "$$\n",
    "Attributes:\n",
    " * $\\text{uniformizer}(a)=p$\n",
    " * $\\text{ord}_{p}(a)=n$\n",
    " * $\\text{resol}_{p}(a)=m$\n",
    " * $\\text{digits}(a)=(a_0,a_1,\\dots,a_m)$\n",
    " \n",
    " * $\\text{unit}=a_0+a_1 p+a_2 p^2+\\cdots+a_m p^m$"
   ]
  },
  {
   "cell_type": "code",
   "execution_count": 21,
   "id": "a5ae2a47-8b63-477d-90eb-851104630c15",
   "metadata": {},
   "outputs": [],
   "source": [
    "class p_Approx():\n",
    "    def __init__(self,\n",
    "                 p,\n",
    "                 order,\n",
    "                 digits):\n",
    "        \n",
    "        assert all(isinstance(argument, int) for argument in [p, order])\n",
    "        assert p>=2\n",
    "        assert isinstance(digits, list), 'The argument \\\"digits\\\" must be a list of integers.'\n",
    "        assert all(isinstance(d, int) and 0<=d<p for d in digits), 'All digits must be between 0 and p-1.'\n",
    "        assert (len(digits)>1 and digits[0]!= 0) or order==0, 'The p-adic number \\\"0\\\" can only be represented with order 0 and digits [0].'\n",
    "        # I need to think more carefully about how to incorporate p-adic 0.\n",
    "        \n",
    "        self.uniformizer = p\n",
    "        self.ord_p = order\n",
    "        self.resol_p = len(digits)\n",
    "        self.digits = digits\n",
    "        \n",
    "        self.unit = sum([d*p**i for i, d in enumerate(digits)])"
   ]
  },
  {
   "cell_type": "markdown",
   "id": "07ab9db0-0b57-49c6-b54d-d9cfe1dc26a6",
   "metadata": {
    "jp-MarkdownHeadingCollapsed": true,
    "tags": []
   },
   "source": [
    "#### Testing:"
   ]
  },
  {
   "cell_type": "code",
   "execution_count": 17,
   "id": "0c1399d2-5a5d-4966-99af-0a95c7d28b12",
   "metadata": {},
   "outputs": [
    {
     "name": "stdout",
     "output_type": "stream",
     "text": [
      "Associated unit (as integer): 309\n",
      "Check that unit is correct: True\n"
     ]
    }
   ],
   "source": [
    "A = p_Approx(7, -5, [1, 2, 6])\n",
    "print('Associated unit (as integer):', A.unit)\n",
    "print('Check that unit is correct:', A.unit == 1+2*7+6*7**2)"
   ]
  },
  {
   "cell_type": "code",
   "execution_count": 18,
   "id": "dd578560-4d4c-49d7-a324-42953d62a932",
   "metadata": {},
   "outputs": [
    {
     "name": "stdout",
     "output_type": "stream",
     "text": [
      "0\n"
     ]
    }
   ],
   "source": [
    "B = p_Approx(7, 0, [0])\n",
    "print(B.unit)"
   ]
  },
  {
   "cell_type": "markdown",
   "id": "14e31c40-0890-4618-ab9c-e5b8dc608e0b",
   "metadata": {},
   "source": [
    "### Function: `to_p_approx`\n",
    "Takes an integer $x$ (possibly negative) and a specified conductor $m$ and returns the $p$-adic approximation $p^n u$ of $x$ with unit $u$ approximated up to order $m$.  "
   ]
  },
  {
   "cell_type": "code",
   "execution_count": 43,
   "id": "248df3a3-eb4b-4f84-aa6a-b93b90536083",
   "metadata": {},
   "outputs": [],
   "source": [
    "def to_p_approx(p: int, x: int, m: int) -> p_Approx:\n",
    "    assert isinstance(p, int) and p>=2\n",
    "    assert isinstance(x, int)\n",
    "    assert isinstance(m, int) and m>=0\n",
    "    \n",
    "    order = 0\n",
    "    while x%(p**order)==0:\n",
    "        order += 1\n",
    "    order -= 1\n",
    "    \n",
    "    unit = int(x/(p**order))\n",
    "    \n",
    "    running_unit = copy.deepcopy(unit)\n",
    "    digits = []\n",
    "    k=0\n",
    "    while len(digits) < m+1:\n",
    "        d = running_unit%p\n",
    "        digits.append(d)\n",
    "        running_unit = running_unit - d\n",
    "        running_unit = int(running_unit/p)\n",
    "        k += 1\n",
    "    \n",
    "    return p_Approx(p, order, digits)"
   ]
  },
  {
   "cell_type": "markdown",
   "id": "e3a979f7-ef01-493c-86f3-72b73fbe1a20",
   "metadata": {
    "jp-MarkdownHeadingCollapsed": true,
    "tags": []
   },
   "source": [
    "#### Testing:"
   ]
  },
  {
   "cell_type": "code",
   "execution_count": 44,
   "id": "9f1a32e9-988a-4c9f-9b14-ce5ed7e6f84a",
   "metadata": {},
   "outputs": [
    {
     "name": "stdout",
     "output_type": "stream",
     "text": [
      "Uniformizer: 7\n",
      "p-Adic order: 2\n",
      "p-Adic resolution for unit factor: 2\n",
      "p-Adic digits: [3, 0]\n",
      "p-Adic unit factor: 3\n"
     ]
    }
   ],
   "source": [
    "A = to_p_approx(7, 49*3, 1)\n",
    "print('Uniformizer:', A.uniformizer)\n",
    "print('p-Adic order:', A.ord_p)\n",
    "print('p-Adic resolution for unit factor:', A.resol_p)\n",
    "print('p-Adic digits:', A.digits)\n",
    "print('p-Adic unit factor:', A.unit)"
   ]
  },
  {
   "cell_type": "code",
   "execution_count": 45,
   "id": "af9d26fd-71e9-4276-a5c7-a7462ead555e",
   "metadata": {},
   "outputs": [
    {
     "name": "stdout",
     "output_type": "stream",
     "text": [
      "Uniformizer: 7\n",
      "p-Adic order: 2\n",
      "p-Adic resolution for unit factor: 2\n",
      "p-Adic digits: [6, 6]\n",
      "p-Adic unit factor: 48\n"
     ]
    }
   ],
   "source": [
    "A = to_p_approx(7, 49*48, 1)\n",
    "print('Uniformizer:', A.uniformizer)\n",
    "print('p-Adic order:', A.ord_p)\n",
    "print('p-Adic resolution for unit factor:', A.resol_p)\n",
    "print('p-Adic digits:', A.digits)\n",
    "print('p-Adic unit factor:', A.unit)"
   ]
  },
  {
   "cell_type": "code",
   "execution_count": 46,
   "id": "0cf19042-b224-45e3-a3c0-6dc15f93bef2",
   "metadata": {},
   "outputs": [
    {
     "name": "stdout",
     "output_type": "stream",
     "text": [
      "Uniformizer: 3\n",
      "p-Adic order: 0\n",
      "p-Adic resolution for unit factor: 11\n",
      "p-Adic digits: [2, 2, 2, 2, 2, 2, 2, 2, 2, 2, 2]\n",
      "p-Adic unit factor: 177146\n"
     ]
    }
   ],
   "source": [
    "A = to_p_approx(3, -1, 10)\n",
    "print('Uniformizer:', A.uniformizer)\n",
    "print('p-Adic order:', A.ord_p)\n",
    "print('p-Adic resolution for unit factor:', A.resol_p)\n",
    "print('p-Adic digits:', A.digits)\n",
    "print('p-Adic unit factor:', A.unit)"
   ]
  },
  {
   "cell_type": "markdown",
   "id": "9ce8c97a-dfa9-4e43-91ee-795d139a972f",
   "metadata": {},
   "source": [
    "### Function: `p_mult`\n",
    "Multiplies two instances of `p_Approx`, returning a new instance of `p_Approx` with resolution the coarser of the respective resolutions of the two p-adic approximations."
   ]
  },
  {
   "cell_type": "code",
   "execution_count": 47,
   "id": "62d7693e-7434-4099-8d00-4ea30859aa43",
   "metadata": {},
   "outputs": [],
   "source": [
    "def p_mult(x,y):\n",
    "    assert isinstance(x, p_Approx)\n",
    "    assert isinstance(y, p_Approx)\n",
    "    assert x.uniformizer == y.uniformizer\n",
    "    \n",
    "    p = x.uniformizer\n",
    "    \n",
    "    order = x.ord_p + y.ord_p\n",
    "    unit = x.unit * y.unit\n",
    "    z = (p**order) * unit \n",
    "    \n",
    "    resolution = min(x.resol_p, y.resol_p)\n",
    "    \n",
    "    output = to_p_approx(p, z, resolution)\n",
    "    \n",
    "    return output"
   ]
  },
  {
   "cell_type": "markdown",
   "id": "94aa96c5-eeed-4fee-bd84-b470cb60c04d",
   "metadata": {
    "jp-MarkdownHeadingCollapsed": true,
    "tags": []
   },
   "source": [
    "#### Testing:"
   ]
  },
  {
   "cell_type": "code",
   "execution_count": 48,
   "id": "93107c19-0b46-45c3-bfca-8055bdbb94ea",
   "metadata": {},
   "outputs": [
    {
     "name": "stdout",
     "output_type": "stream",
     "text": [
      "Unit of x: 86\n",
      "Unit of y: 1577\n",
      "\n",
      "Uniformizer of the product: 5\n",
      "Order of the product: 0\n",
      "Resolution of the product: 4\n",
      "Digits of the product: [2, 4, 4, 4]\n",
      "Unit of the product: 622\n"
     ]
    }
   ],
   "source": [
    "x = p_Approx(5, 2, [1, 2, 3])\n",
    "y = p_Approx(5, -2, [2, 0, 3, 2, 2])\n",
    "\n",
    "print('Unit of x:', x.unit)\n",
    "print('Unit of y:', y.unit)\n",
    "\n",
    "z = p_mult(x, y)\n",
    "\n",
    "print('\\nUniformizer of the product:', z.uniformizer)\n",
    "print('Order of the product:', z.ord_p)\n",
    "print('Resolution of the product:', z.resol_p)\n",
    "print('Digits of the product:', z.digits)\n",
    "print('Unit of the product:', z.unit)"
   ]
  },
  {
   "cell_type": "markdown",
   "id": "b69a7e88-2a4d-44b3-8161-bebf1ff376f6",
   "metadata": {},
   "source": [
    "### Class: `cslcFunc`\n",
    "Encodes a compactly supported locally constant function $f$ on $\\text{GL}_{1}(\\mathbb{Q}_p)$, with conductor $m$, by encoding the cofficients $c_i$ and the dilated-and-translated supporting disks $a_i\\cdot(1+p^m\\mathbb{Z}_p)$ that define the presentation\n",
    "    $$\n",
    "    f(x)\n",
    "    \\ =\\ \n",
    "    \\sum_{i=1}^{k}c_i \\cdot \\mathbb{1}_{a_i\\cdot(1+p^m\\mathbb{Z}_{\\!p})}(x),\n",
    "    $$\n",
    "for disk centers $a_i\\in\\mathbb{Z}/p^m\\mathbb{Z}$ and complex numbers $c_i\\in\\mathbb{C}$. Note that the supporting disk $a_i\\cdot(1+p^m\\mathbb{Z}_p)$ has radius $\\frac{|a_i|_p}{p^{-m}}$, but that *all supporting disks have the same Haar measure*. **[Need to work out relationship between resolution and conductor...]**\n",
    "\n",
    "Attributes:\n",
    " * $\\text{cond}_p(f)=m$\n",
    " * $\\text{term_dict}=\\{\\}$\n",
    " \n",
    "Methods:\n",
    " * Contravariant multiplication $f(x)\\mapsto f(ax)$"
   ]
  },
  {
   "cell_type": "code",
   "execution_count": 56,
   "id": "87b935ea-798a-430a-8817-f8fa663f59e7",
   "metadata": {},
   "outputs": [],
   "source": [
    "class cslcFunc():\n",
    "    def __init__(self, p, m, supports, values):\n",
    "        assert isinstance(p, int) and p>=2\n",
    "        assert isinstance(m, int) and m >= 0\n",
    "        \n",
    "        assert all(isinstance(a, p_Approx) for a in supports)\n",
    "        assert all(a.resol_p == m for a in supports)\n",
    "        \n",
    "        assert all(isinstance(c, complex) for c in values)\n",
    "        \n",
    "        self.uniformizer = p\n",
    "        self.cond_p = m\n",
    "        self.supp = supports\n",
    "        self.values = values\n",
    "        \n",
    "        # Need to work out relationship between resolution and conductor for translated/dilated disks"
   ]
  },
  {
   "cell_type": "markdown",
   "id": "ff5fb7b6-9f8e-4024-99bf-3603ea113ceb",
   "metadata": {},
   "source": [
    "#### Testing:"
   ]
  },
  {
   "cell_type": "code",
   "execution_count": 58,
   "id": "2ce30ca4-18fe-408d-86b9-172964668ea5",
   "metadata": {},
   "outputs": [
    {
     "name": "stdout",
     "output_type": "stream",
     "text": [
      "Uniformizer of f: 5\n",
      "Conductor of f: 3\n",
      "Supporting disks of f: [<__main__.p_Approx object at 0x7f96a09042b0>, <__main__.p_Approx object at 0x7f96a09045e0>]\n",
      "Values of f: [(1+0j), (1+2j)]\n"
     ]
    }
   ],
   "source": [
    "x = p_Approx(5, 2, [1, 2, 3])\n",
    "y = p_Approx(5, -2, [2, 0, 3])\n",
    "\n",
    "f = cslcFunc(5, 3, [x, y], [complex(1,0), complex(1,2)])\n",
    "print('Uniformizer of f:', f.uniformizer)\n",
    "print('Conductor of f:', f.cond_p)\n",
    "print('Supporting disks of f:', f.supp)\n",
    "print('Values of f:', f.values)"
   ]
  },
  {
   "cell_type": "markdown",
   "id": "e87f99f0-07fa-41ac-87d5-3b5c6fb6db24",
   "metadata": {},
   "source": [
    "### Class: `Character`"
   ]
  },
  {
   "cell_type": "markdown",
   "id": "4bcd3934-f7da-44d8-a47c-eb2ae068bc8a",
   "metadata": {},
   "source": [
    "### Function: `Mellin`\n",
    "**Input arguments:** (function, character)"
   ]
  }
 ],
 "metadata": {
  "kernelspec": {
   "display_name": "Python 3 (ipykernel)",
   "language": "python",
   "name": "python3"
  },
  "language_info": {
   "codemirror_mode": {
    "name": "ipython",
    "version": 3
   },
   "file_extension": ".py",
   "mimetype": "text/x-python",
   "name": "python",
   "nbconvert_exporter": "python",
   "pygments_lexer": "ipython3",
   "version": "3.8.8"
  }
 },
 "nbformat": 4,
 "nbformat_minor": 5
}
