{
 "cells": [
  {
   "cell_type": "markdown",
   "id": "a18bb485-f419-4d9f-ba22-fda6233d73ac",
   "metadata": {},
   "source": [
    "# *p*-Adic Signals for $\\pmb{\\text{GL}_1(\\mathbb{Q}_p)}$."
   ]
  },
  {
   "cell_type": "code",
   "execution_count": 1,
   "id": "b624f716-1650-4cd1-8eb3-2b859aef5e1d",
   "metadata": {},
   "outputs": [],
   "source": [
    "import copy\n",
    "import numpy as np\n",
    "import matplotlib.pyplot as plt\n",
    "\n",
    "import tqdm"
   ]
  },
  {
   "cell_type": "markdown",
   "id": "f1cd3ba4-e3bf-48c2-ba2f-21fef97ee3ab",
   "metadata": {},
   "source": [
    "## Outline."
   ]
  },
  {
   "cell_type": "markdown",
   "id": "ce7f6256-58ff-4f55-b70d-c59663d5edef",
   "metadata": {},
   "source": [
    "### Class: `p_Approx`\n",
    "Approximates a non-zero $p$-adic number up to a given order (modulo the number's norm). An instance of `p_Approx` represents an \"order-$m$ unit-truncated\" $p$-adic number\n",
    "$$\n",
    "a\\ =\\ p^n\\cdot(a_0+a_1 p+a_2 p^2+\\cdots+a_m p^m)\n",
    "$$\n",
    "Attributes:\n",
    " * $\\text{uniformizer}(a)=p$\n",
    " * $\\text{ord}_{p}(a)=n$\n",
    " * $\\text{resol}_{p}(a)=m$\n",
    " * $\\text{digits}(a)=(a_0,a_1,\\dots,a_m)$\n",
    " \n",
    " * $\\text{unit}=a_0+a_1 p+a_2 p^2+\\cdots+a_m p^m$"
   ]
  },
  {
   "cell_type": "code",
   "execution_count": 2,
   "id": "a5ae2a47-8b63-477d-90eb-851104630c15",
   "metadata": {},
   "outputs": [],
   "source": [
    "class p_Approx():\n",
    "    def __init__(self,\n",
    "                 p,\n",
    "                 order,\n",
    "                 digits):\n",
    "        \n",
    "        assert all(isinstance(argument, int) for argument in [p, order])\n",
    "        assert p>=2\n",
    "        assert isinstance(digits, list), 'The argument \\\"digits\\\" must be a list of integers.'\n",
    "        assert all(isinstance(d, int) and 0<=d<p for d in digits), 'All digits must be between 0 and p-1.'\n",
    "        assert (len(digits)>1 and digits[0]!= 0) or order==0, 'The p-adic number \\\"0\\\" can only be represented with order 0 and digits [0].'\n",
    "        # I need to think more carefully about how to incorporate p-adic 0.\n",
    "        \n",
    "        self.uniformizer = p\n",
    "        self.ord_p = order\n",
    "        self.resol_p = len(digits)\n",
    "        self.digits = digits\n",
    "        \n",
    "        self.unit = sum([d*p**i for i, d in enumerate(digits)])"
   ]
  },
  {
   "cell_type": "markdown",
   "id": "07ab9db0-0b57-49c6-b54d-d9cfe1dc26a6",
   "metadata": {
    "jp-MarkdownHeadingCollapsed": true,
    "tags": []
   },
   "source": [
    "#### Testing:"
   ]
  },
  {
   "cell_type": "code",
   "execution_count": 3,
   "id": "0c1399d2-5a5d-4966-99af-0a95c7d28b12",
   "metadata": {},
   "outputs": [
    {
     "name": "stdout",
     "output_type": "stream",
     "text": [
      "Associated unit (as integer): 309\n",
      "Check that unit is correct: True\n"
     ]
    }
   ],
   "source": [
    "A = p_Approx(7, -5, [1, 2, 6])\n",
    "print('Associated unit (as integer):', A.unit)\n",
    "print('Check that unit is correct:', A.unit == 1+2*7+6*7**2)"
   ]
  },
  {
   "cell_type": "code",
   "execution_count": 4,
   "id": "dd578560-4d4c-49d7-a324-42953d62a932",
   "metadata": {},
   "outputs": [
    {
     "name": "stdout",
     "output_type": "stream",
     "text": [
      "0\n"
     ]
    }
   ],
   "source": [
    "B = p_Approx(7, 0, [0])\n",
    "print(B.unit)"
   ]
  },
  {
   "cell_type": "markdown",
   "id": "14e31c40-0890-4618-ab9c-e5b8dc608e0b",
   "metadata": {},
   "source": [
    "### Function: `to_p_approx`\n",
    "Takes an integer $x$ (possibly negative) and a specified conductor $m$ and returns the $p$-adic approximation $p^n u$ of $x$ with unit $u$ approximated up to order $m$.  "
   ]
  },
  {
   "cell_type": "code",
   "execution_count": 5,
   "id": "248df3a3-eb4b-4f84-aa6a-b93b90536083",
   "metadata": {},
   "outputs": [],
   "source": [
    "def to_p_approx(p: int, x: int, m: int) -> p_Approx:\n",
    "    assert isinstance(p, int) and p>=2\n",
    "    assert isinstance(x, int)\n",
    "    assert isinstance(m, int) and m>=0\n",
    "    \n",
    "    order = 0\n",
    "    while x%(p**order)==0:\n",
    "        order += 1\n",
    "    order -= 1\n",
    "    \n",
    "    unit = int(x/(p**order))\n",
    "    \n",
    "    running_unit = copy.deepcopy(unit)\n",
    "    digits = []\n",
    "    k=0\n",
    "    while len(digits) < m+1:\n",
    "        d = running_unit%p\n",
    "        digits.append(d)\n",
    "        running_unit = running_unit - d\n",
    "        running_unit = int(running_unit/p)\n",
    "        k += 1\n",
    "    \n",
    "    return p_Approx(p, order, digits)"
   ]
  },
  {
   "cell_type": "markdown",
   "id": "e3a979f7-ef01-493c-86f3-72b73fbe1a20",
   "metadata": {
    "jp-MarkdownHeadingCollapsed": true,
    "tags": []
   },
   "source": [
    "#### Testing:"
   ]
  },
  {
   "cell_type": "code",
   "execution_count": 6,
   "id": "9f1a32e9-988a-4c9f-9b14-ce5ed7e6f84a",
   "metadata": {},
   "outputs": [
    {
     "name": "stdout",
     "output_type": "stream",
     "text": [
      "Uniformizer: 7\n",
      "p-Adic order: 2\n",
      "p-Adic resolution for unit factor: 2\n",
      "p-Adic digits: [3, 0]\n",
      "p-Adic unit factor: 3\n"
     ]
    }
   ],
   "source": [
    "A = to_p_approx(7, 49*3, 1)\n",
    "print('Uniformizer:', A.uniformizer)\n",
    "print('p-Adic order:', A.ord_p)\n",
    "print('p-Adic resolution for unit factor:', A.resol_p)\n",
    "print('p-Adic digits:', A.digits)\n",
    "print('p-Adic unit factor:', A.unit)"
   ]
  },
  {
   "cell_type": "code",
   "execution_count": 7,
   "id": "af9d26fd-71e9-4276-a5c7-a7462ead555e",
   "metadata": {},
   "outputs": [
    {
     "name": "stdout",
     "output_type": "stream",
     "text": [
      "Uniformizer: 7\n",
      "p-Adic order: 2\n",
      "p-Adic resolution for unit factor: 2\n",
      "p-Adic digits: [6, 6]\n",
      "p-Adic unit factor: 48\n"
     ]
    }
   ],
   "source": [
    "A = to_p_approx(7, 49*48, 1)\n",
    "print('Uniformizer:', A.uniformizer)\n",
    "print('p-Adic order:', A.ord_p)\n",
    "print('p-Adic resolution for unit factor:', A.resol_p)\n",
    "print('p-Adic digits:', A.digits)\n",
    "print('p-Adic unit factor:', A.unit)"
   ]
  },
  {
   "cell_type": "code",
   "execution_count": 8,
   "id": "0cf19042-b224-45e3-a3c0-6dc15f93bef2",
   "metadata": {},
   "outputs": [
    {
     "name": "stdout",
     "output_type": "stream",
     "text": [
      "Uniformizer: 3\n",
      "p-Adic order: 0\n",
      "p-Adic resolution for unit factor: 11\n",
      "p-Adic digits: [2, 2, 2, 2, 2, 2, 2, 2, 2, 2, 2]\n",
      "p-Adic unit factor: 177146\n"
     ]
    }
   ],
   "source": [
    "A = to_p_approx(3, -1, 10)\n",
    "print('Uniformizer:', A.uniformizer)\n",
    "print('p-Adic order:', A.ord_p)\n",
    "print('p-Adic resolution for unit factor:', A.resol_p)\n",
    "print('p-Adic digits:', A.digits)\n",
    "print('p-Adic unit factor:', A.unit)"
   ]
  },
  {
   "cell_type": "markdown",
   "id": "9ce8c97a-dfa9-4e43-91ee-795d139a972f",
   "metadata": {},
   "source": [
    "### Function: `p_mult`\n",
    "Multiplies two instances of `p_Approx`, returning a new instance of `p_Approx` with resolution the coarser of the respective resolutions of the two p-adic approximations."
   ]
  },
  {
   "cell_type": "code",
   "execution_count": 9,
   "id": "62d7693e-7434-4099-8d00-4ea30859aa43",
   "metadata": {},
   "outputs": [],
   "source": [
    "def p_mult(x,y):\n",
    "    assert isinstance(x, p_Approx)\n",
    "    assert isinstance(y, p_Approx)\n",
    "    assert x.uniformizer == y.uniformizer\n",
    "    \n",
    "    p = x.uniformizer\n",
    "    \n",
    "    order = x.ord_p + y.ord_p\n",
    "    unit = x.unit * y.unit\n",
    "    \n",
    "    resolution = min(x.resol_p, y.resol_p)\n",
    "    \n",
    "    output = to_p_approx(p, unit, resolution)\n",
    "    output.ord_p += order\n",
    "    \n",
    "    return output"
   ]
  },
  {
   "cell_type": "markdown",
   "id": "94aa96c5-eeed-4fee-bd84-b470cb60c04d",
   "metadata": {
    "jp-MarkdownHeadingCollapsed": true,
    "tags": []
   },
   "source": [
    "#### Testing:"
   ]
  },
  {
   "cell_type": "code",
   "execution_count": 10,
   "id": "93107c19-0b46-45c3-bfca-8055bdbb94ea",
   "metadata": {},
   "outputs": [
    {
     "name": "stdout",
     "output_type": "stream",
     "text": [
      "Unit of x: 86\n",
      "Unit of y: 1577\n",
      "\n",
      "Uniformizer of the product: 5\n",
      "Order of the product: 0\n",
      "Resolution of the product: 4\n",
      "Digits of the product: [2, 4, 4, 4]\n",
      "Unit of the product: 622\n"
     ]
    }
   ],
   "source": [
    "x = p_Approx(5, 2, [1, 2, 3])\n",
    "y = p_Approx(5, -2, [2, 0, 3, 2, 2])\n",
    "\n",
    "print('Unit of x:', x.unit)\n",
    "print('Unit of y:', y.unit)\n",
    "\n",
    "z = p_mult(x, y)\n",
    "\n",
    "print('\\nUniformizer of the product:', z.uniformizer)\n",
    "print('Order of the product:', z.ord_p)\n",
    "print('Resolution of the product:', z.resol_p)\n",
    "print('Digits of the product:', z.digits)\n",
    "print('Unit of the product:', z.unit)"
   ]
  },
  {
   "cell_type": "markdown",
   "id": "b69a7e88-2a4d-44b3-8161-bebf1ff376f6",
   "metadata": {},
   "source": [
    "### Class: `cslcFunc`\n",
    "Encodes a compactly supported locally constant function $f$ on $\\text{GL}_{1}(\\mathbb{Q}_p)$, with conductor $m$, by encoding the cofficients $c_i$ and the dilated-and-translated supporting disks $a_i\\cdot(1+p^m\\mathbb{Z}_p)$ that define the presentation\n",
    "    $$\n",
    "    f(x)\n",
    "    \\ =\\ \n",
    "    \\sum_{i=1}^{k}c_i \\cdot \\mathbb{1}_{a_i\\cdot(1+p^m\\mathbb{Z}_{\\!p})}(x),\n",
    "    $$\n",
    "for disk centers $a_i\\in\\mathbb{Z}/p^m\\mathbb{Z}$ and complex numbers $c_i\\in\\mathbb{C}$. Note that the supporting disk $a_i\\cdot(1+p^m\\mathbb{Z}_p)$ has radius $\\frac{|a_i|_p}{p^{-m}}$, but that *all supporting disks have the same Haar measure*. Observe here that if\n",
    "    $$\n",
    "    a_i\n",
    "    \\ =\\ \n",
    "    p^n\\ (a_{i0}+a_{i1}p+\\cdots+a_{ik}p^k),\n",
    "    $$\n",
    "for $n\\in\\mathbb{Z}$ and $k\\in\\mathbb{Z}_{\\ge0}$, then we can rewrite $a_{i}\\ (1+p^m\\mathbb{Z}_{p})$ as\n",
    "    $$\n",
    "    a_{i}\\ (1+p^m\\mathbb{Z}_{p})\n",
    "    \\ \\ =\\ \\ \n",
    "    a_{i0}p^n+a_{i1}p^{n+1}+\\cdots+a_{ik}p^{n+k}+p^{n+m}\\mathbb{Z}_p.\n",
    "    $$\n",
    "Consequently, it only makes sense to choose $a_i\\in\\mathbb{Q}^\\times_p$ with resolution $m$, i.e., such that $k=m-1$. In terms of our class `p_Approx`, this means that `a_i.resol_p` should be $m$.\n",
    "\n",
    "Attributes:\n",
    " * $\\text{cond}_p(f)=m$\n",
    " * $\\text{term_dict}=\\{\\}$\n",
    " \n",
    "Methods:\n",
    " * Contravariant multiplication $f(x)\\mapsto f(a^{-1}x)$"
   ]
  },
  {
   "cell_type": "code",
   "execution_count": 11,
   "id": "87b935ea-798a-430a-8817-f8fa663f59e7",
   "metadata": {},
   "outputs": [],
   "source": [
    "class cslcFunc():\n",
    "    def __init__(self, p, m, supports, values):\n",
    "        assert isinstance(p, int) and p>=2\n",
    "        assert isinstance(m, int) and m >= 0\n",
    "        \n",
    "        assert isinstance(supports, list)\n",
    "        assert all(isinstance(a, p_Approx) for a in supports)\n",
    "        assert all(a.resol_p == m for a in supports)\n",
    "        \n",
    "        assert isinstance(values, list)\n",
    "        assert all(isinstance(c, complex) for c in values)\n",
    "        \n",
    "        assert len(supports) == len(values)\n",
    "        \n",
    "        self.uniformizer = p\n",
    "        self.cond_p = m\n",
    "        self.supp = supports\n",
    "        self.values = values\n",
    "        \n",
    "    def contra_mult(self, b):\n",
    "        assert isinstance(b, p_Approx)\n",
    "        assert b.uniformizer == self.uniformizer\n",
    "        assert b.resol_p == self.cond_p\n",
    "        \n",
    "        new_supp = [p_mult(b,a) for a in self.supp]\n",
    "        self.supp = new_supp"
   ]
  },
  {
   "cell_type": "markdown",
   "id": "ff5fb7b6-9f8e-4024-99bf-3603ea113ceb",
   "metadata": {
    "jp-MarkdownHeadingCollapsed": true,
    "tags": []
   },
   "source": [
    "#### Testing:"
   ]
  },
  {
   "cell_type": "code",
   "execution_count": 12,
   "id": "2ce30ca4-18fe-408d-86b9-172964668ea5",
   "metadata": {},
   "outputs": [
    {
     "name": "stdout",
     "output_type": "stream",
     "text": [
      "Uniformizer of f: 5\n",
      "Conductor of f: 3\n",
      "Supporting disks of f: [<__main__.p_Approx object at 0x7faacaa87a30>, <__main__.p_Approx object at 0x7faacaa87ac0>]\n",
      "Values of f: [(1+0j), (1+2j)]\n"
     ]
    }
   ],
   "source": [
    "x = p_Approx(5, 2, [1, 2, 3])\n",
    "y = p_Approx(5, -2, [2, 0, 3])\n",
    "\n",
    "f = cslcFunc(5, 3, [x, y], [complex(1,0), complex(1,2)])\n",
    "print('Uniformizer of f:', f.uniformizer)\n",
    "print('Conductor of f:', f.cond_p)\n",
    "print('Supporting disks of f:', f.supp)\n",
    "print('Values of f:', f.values)"
   ]
  },
  {
   "cell_type": "code",
   "execution_count": 13,
   "id": "5fbc1aea-fa42-4367-bd3e-ede7cd593256",
   "metadata": {},
   "outputs": [
    {
     "name": "stdout",
     "output_type": "stream",
     "text": [
      "\n",
      "Original support orders:\n",
      "2\n",
      "-2\n",
      "\n",
      "New support orders:\n",
      "-2\n",
      "-6\n"
     ]
    }
   ],
   "source": [
    "x = p_Approx(5, 2, [1, 2, 3])\n",
    "y = p_Approx(5, -2, [2, 0, 3])\n",
    "\n",
    "f = cslcFunc(5, 3, [x, y], [complex(1,0), complex(1,2)])\n",
    "\n",
    "print('\\nOriginal support orders:')\n",
    "for a in f.supp:\n",
    "    print(a.ord_p)\n",
    "\n",
    "z = p_Approx(5, -4, [1, 1, 1])\n",
    "f.contra_mult(z)\n",
    "\n",
    "print('\\nNew support orders:')\n",
    "for a in f.supp:\n",
    "    print(a.ord_p)"
   ]
  },
  {
   "cell_type": "markdown",
   "id": "9e8db23c-16b0-4792-abdc-bcf7e44b1ea2",
   "metadata": {},
   "source": [
    "### Function: `primitive_root`\n",
    "Returns a list of primitive roots modulo $p^m$ for some prime $m$ and conductor $m$."
   ]
  },
  {
   "cell_type": "code",
   "execution_count": 14,
   "id": "c17db655-5936-46f3-9f48-1f3c4daf9789",
   "metadata": {},
   "outputs": [],
   "source": [
    "def primitive_root(p, m):\n",
    "    assert isinstance(p, int)\n",
    "    assert p >=2\n",
    "    assert isinstance(m, int)\n",
    "    assert m >=1\n",
    "    \n",
    "    candidates = [i for i in range(1,p**m)]\n",
    "    for k in tqdm.tqdm(range(1,p**(m-1))):\n",
    "        if k*p in candidates:\n",
    "            candidates.remove(k*p)\n",
    "        \n",
    "    totient = len(candidates)\n",
    "    \n",
    "    for a in candidates:\n",
    "        powers = []\n",
    "        for k in tqdm.tqdm(range(1, totient+1)):\n",
    "            kth_power = (a**k)%(p**m)\n",
    "            if kth_power in powers:\n",
    "                break\n",
    "            else:\n",
    "                powers.append(kth_power)\n",
    "        if set(powers) == set(candidates):\n",
    "            output = a\n",
    "            break\n",
    "    \n",
    "    return output"
   ]
  },
  {
   "cell_type": "markdown",
   "id": "bba2bc4d-4797-49de-afbc-29ba08206105",
   "metadata": {
    "jp-MarkdownHeadingCollapsed": true,
    "tags": []
   },
   "source": [
    "#### Testing:"
   ]
  },
  {
   "cell_type": "code",
   "execution_count": 15,
   "id": "d5e9b1af-7362-4e3f-b533-f62ad121d017",
   "metadata": {},
   "outputs": [
    {
     "name": "stderr",
     "output_type": "stream",
     "text": [
      "100%|█████████████████████████████████████| 1368/1368 [00:01<00:00, 1146.74it/s]\n",
      "  0%|                                      | 1/49284 [00:00<00:02, 21732.15it/s]\n",
      "100%|███████████████████████████████████| 49284/49284 [00:14<00:00, 3305.02it/s]\n"
     ]
    },
    {
     "data": {
      "text/plain": [
       "2"
      ]
     },
     "execution_count": 15,
     "metadata": {},
     "output_type": "execute_result"
    }
   ],
   "source": [
    "primitive_root(37, 3)"
   ]
  },
  {
   "cell_type": "markdown",
   "id": "e87f99f0-07fa-41ac-87d5-3b5c6fb6db24",
   "metadata": {},
   "source": [
    "### Class: `nuCharacter`\n",
    "Encodes a normalized unitary $p$-adic character $\\omega:\\mathbb{Q}^{\\times}_{p}\\longrightarrow\\mathbb{C}^{\\times}$. Such a character is completely determined by its restriction $\\omega|_{\\mathbb{Z}^{\\times}_{p}}:\\mathbb{Z}^\\times_p\\longrightarrow\\mathbb{S}^1$, which necessarily factors through a character\n",
    "    $$\n",
    "    \\overline{\\omega}:(\\mathbb{Z}/p^m\\mathbb{Z})^\\times\\longrightarrow\\mathbb{S}^1,\n",
    "    $$\n",
    "for some $m$. The minimal such $m$ is called the *conductor* of $\\omega$.\n",
    "\n",
    "**Remark.** This code is not correct for the case $p=2$. In that case, $(\\mathbb{Z}/2^{m}\\mathbb{Z})^\\times\\cong(\\mathbb{Z}/2\\mathbb{Z})\\ \\times\\ (\\mathbb{Z}/2^{m-2}\\mathbb{Z})$, hence the normalized unitary character is defined by a choice of $(2^{m-2})^\\text{th}$-root of unity $\\zeta\\in\\mathbb{C}$ and a choice of sign $\\pm 1\\in\\mathbb{C}$."
   ]
  },
  {
   "cell_type": "code",
   "execution_count": 16,
   "id": "65aa339c-f926-4c47-b4f3-f69a7c20a115",
   "metadata": {},
   "outputs": [],
   "source": [
    "class nuCharacter():\n",
    "    def __init__(self, p, m, l):\n",
    "        assert isinstance(p, int)\n",
    "        assert p>=2\n",
    "        assert isinstance(m, int)\n",
    "        assert m>=1\n",
    "        assert isinstance(l, int)\n",
    "        \n",
    "        self.totient = (p-1) * p**(m-1)\n",
    "        if l >= self.totient: print('\\nTotient is φ(p\\u005Em) =', self.totient)\n",
    "        if l >= self.totient: print('You\\'re using the argument l =', l, '\\u2265 φ(p\\u005Em).')\n",
    "        assert 0 <= l < self.totient, 'The argument l must be non-negative and must be less than the totient φ(p\\u005Em) = (p-1)\\u00B7p\\u005E(m-1).'\n",
    "        \n",
    "        assert p!=2, 'You need to fix the p = 2 case.'\n",
    "        \n",
    "        self.uniformizer = p\n",
    "        self.cond_p = m\n",
    "        self.gen_multiple = l\n",
    "        \n",
    "        self.primitive_theta = 2*np.pi/self.totient\n",
    "        self.gen_theta = self.gen_multiple * self.primitive_theta\n",
    "        self.gen_X = np.cos(self.gen_theta)\n",
    "        self.gen_Y = np.sin(self.gen_theta)\n",
    "        self.zeta = complex(self.gen_X, self.gen_Y)\n",
    "        \n",
    "        \n",
    "    def change_resol_p(self):\n",
    "        assert False, 'WRITE THE `change_resol_p` METHOD!!!'\n",
    "        \n",
    "        \n",
    "    def eval(self, x):\n",
    "        assert isinstance(x, p_Approx)\n",
    "        assert x.resol_p == self.cond_p\n",
    "        \n",
    "        out_multiple = x.unit\n",
    "        out_X = np.cos(out_multiple * self.gen_theta)\n",
    "        out_Y = np.sin(out_multiple * self.gen_theta)\n",
    "        \n",
    "        output = complex(out_X, out_Y)\n",
    "        \n",
    "        return output"
   ]
  },
  {
   "cell_type": "markdown",
   "id": "8f9f798d-214e-4ed3-963e-d9af557d2b71",
   "metadata": {
    "tags": []
   },
   "source": [
    "#### Testing:"
   ]
  },
  {
   "cell_type": "code",
   "execution_count": 24,
   "id": "13f59e05-5ca5-4fba-8263-39bfbc1543d4",
   "metadata": {},
   "outputs": [
    {
     "name": "stdout",
     "output_type": "stream",
     "text": [
      "(0.977249996460544+0.21209065141553668j)\n",
      "149\n"
     ]
    },
    {
     "data": {
      "text/plain": [
       "(0.9100351111642668+0.4145311766902949j)"
      ]
     },
     "execution_count": 24,
     "metadata": {},
     "output_type": "execute_result"
    }
   ],
   "source": [
    "omega = nuCharacter(7, 3, 10)\n",
    "print(omega.zeta)\n",
    "\n",
    "z = p_Approx(7, -2, [2, 0, 3])\n",
    "print(z.unit)\n",
    "omega.eval(z)"
   ]
  },
  {
   "cell_type": "code",
   "execution_count": 31,
   "id": "23bbf54a-9c59-49a8-acec-c4416d61a14b",
   "metadata": {},
   "outputs": [
    {
     "data": {
      "image/png": "[encoded data removed]",
      "text/plain": [
       "<Figure size 500x500 with 1 Axes>"
      ]
     },
     "metadata": {},
     "output_type": "display_data"
    }
   ],
   "source": [
    "p = 5\n",
    "m = 4\n",
    "\n",
    "omega = nuCharacter(p, m, 10)\n",
    "\n",
    "possibilities = [[]]\n",
    "for i in range(m):\n",
    "    new_possibilities = []\n",
    "    for digs in possibilities:\n",
    "        for k in range(p):\n",
    "            new_digs = copy.deepcopy(digs)\n",
    "            new_digs.append(k)\n",
    "            new_possibilities.append(new_digs)\n",
    "    possibilities = copy.deepcopy(new_possibilities)\n",
    "\n",
    "X_coords = []\n",
    "Y_coords = []\n",
    "for digs in possibilities:\n",
    "    z = p_Approx(p,0,digs)\n",
    "    s = omega.eval(z)\n",
    "    X_coords.append(s.real)\n",
    "    Y_coords.append(s.imag)\n",
    "    \n",
    "plt.figure(figsize=(5,5))\n",
    "plt.scatter(X_coords, Y_coords)\n",
    "plt.show()"
   ]
  },
  {
   "cell_type": "markdown",
   "id": "4bcd3934-f7da-44d8-a47c-eb2ae068bc8a",
   "metadata": {},
   "source": [
    "### Function: `Mellin`\n",
    "**Input arguments:** (function, character)"
   ]
  }
 ],
 "metadata": {
  "kernelspec": {
   "display_name": "Python 3 (ipykernel)",
   "language": "python",
   "name": "python3"
  },
  "language_info": {
   "codemirror_mode": {
    "name": "ipython",
    "version": 3
   },
   "file_extension": ".py",
   "mimetype": "text/x-python",
   "name": "python",
   "nbconvert_exporter": "python",
   "pygments_lexer": "ipython3",
   "version": "3.8.8"
  }
 },
 "nbformat": 4,
 "nbformat_minor": 5
}
