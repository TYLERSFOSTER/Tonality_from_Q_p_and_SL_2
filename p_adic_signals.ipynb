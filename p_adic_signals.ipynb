{
 "cells": [
  {
   "cell_type": "markdown",
   "id": "a18bb485-f419-4d9f-ba22-fda6233d73ac",
   "metadata": {},
   "source": [
    "# *p*-Adic Signals & Wavelets."
   ]
  },
  {
   "cell_type": "markdown",
   "id": "24e97444-bcc5-4655-bdc9-bbe7e71c123f",
   "metadata": {},
   "source": [
    "## *p*-Adic Numbers."
   ]
  },
  {
   "cell_type": "code",
   "execution_count": 20,
   "id": "7e554083-0dea-4a7f-ba89-e15548408ba9",
   "metadata": {},
   "outputs": [],
   "source": [
    "import copy\n",
    "import math"
   ]
  },
  {
   "cell_type": "markdown",
   "id": "c431930b-ef62-4d94-9f70-e60bc76f1285",
   "metadata": {},
   "source": [
    "### Class: `pAdic`, basic *p*-adic number class.\n",
    "The `.fractional` attribute here computes the value under the *p*-adic *fractional part* map $\\{-\\}_p:\\mathbb{Q}_p\\longrightarrow\\mathbb{Q}/\\mathbb{Z}$."
   ]
  },
  {
   "cell_type": "code",
   "execution_count": 61,
   "id": "c8ecfc47-604a-4602-9add-d6f0da5b61ce",
   "metadata": {},
   "outputs": [],
   "source": [
    "class pAdic():\n",
    "    \n",
    "    def __init__(self, base, p_gits, norm):\n",
    "        \n",
    "        assert isinstance(base, int)\n",
    "        assert base > 0\n",
    "        \n",
    "        assert isinstance(p_gits, list)\n",
    "        for a in p_gits:\n",
    "            assert isinstance(a, int)\n",
    "            assert 0 <= a < base\n",
    "            \n",
    "        assert isinstance(norm, int)\n",
    "            \n",
    "        self.base = base\n",
    "        self.p_gits = p_gits\n",
    "        self.norm = norm\n",
    "        \n",
    "        term_dict = {}\n",
    "        for k, a in enumerate(self.p_gits):\n",
    "            term_order = self.norm + k\n",
    "            term = a * (self.base**term_order)\n",
    "            term_dict.update({term_order : term})\n",
    "        self.term_dict = term_dict\n",
    "        \n",
    "        rational = sum(term_dict.values())\n",
    "        self.rational = rational\n",
    "        \n",
    "        fractional = 0\n",
    "        for order in self.term_dict:\n",
    "            if order < 0:\n",
    "                term = self.term_dict[order]\n",
    "                fractional += term\n",
    "        self.fractional = fractional"
   ]
  },
  {
   "cell_type": "markdown",
   "id": "3b7d0522-f38f-4e99-9220-cbbe5a6b2868",
   "metadata": {},
   "source": [
    "Testing:"
   ]
  },
  {
   "cell_type": "code",
   "execution_count": 58,
   "id": "601e955e-58e1-4952-8e97-fa74c6729e56",
   "metadata": {},
   "outputs": [
    {
     "name": "stdout",
     "output_type": "stream",
     "text": [
      "\n",
      "base p: 5\n",
      "\n",
      "p-adic digits: [2, 4, 1, 1, 2, 0, 3]\n",
      "\n",
      "p-adic norm: -5\n",
      "\n",
      "dictionary of p-adic terms: {-5: 0.00064, -4: 0.0064, -3: 0.008, -2: 0.04, -1: 0.4, 0: 0, 1: 15}\n",
      "\n",
      "corresponding rational number 15.45504\n",
      "\n",
      "fractional part 0.45504\n"
     ]
    }
   ],
   "source": [
    "X = pAdic(5, [2, 4, 1, 1,2,0,3], -5)\n",
    "\n",
    "print('\\nbase p:', X.base)\n",
    "print('\\np-adic digits:', X.p_gits)\n",
    "print('\\np-adic norm:', X.norm)\n",
    "print('\\ndictionary of p-adic terms:', X.term_dict)\n",
    "print('\\ncorresponding rational number', X.rational)\n",
    "print('\\nfractional part', X.fractional)"
   ]
  },
  {
   "cell_type": "markdown",
   "id": "fc7a4b73-3710-4b91-bd47-0eb1d532a78c",
   "metadata": {},
   "source": [
    "### Function: `to_pAdic`, a version of the canonical embedding $\\mathbb{Q}\\longrightarrow\\mathbb{Q}_p$."
   ]
  },
  {
   "cell_type": "code",
   "execution_count": 59,
   "id": "796fa2ee-3815-4433-952a-ec41def9ccab",
   "metadata": {},
   "outputs": [],
   "source": [
    "def to_pAdic(number, p, m):\n",
    "    assert isinstance(number, int) or isinstance(number, float)\n",
    "    assert number > 0\n",
    "    assert isinstance(p, int)\n",
    "    assert p >= 2\n",
    "    assert isinstance(m, int)\n",
    "    assert m >= 1\n",
    "    \n",
    "    number = float(number)\n",
    "    epsilon = copy.deepcopy(number)\n",
    "    \n",
    "    n=0\n",
    "    while p**n <= epsilon:\n",
    "        n = n+1\n",
    "        \n",
    "    norm = n-1\n",
    "    resolution = m\n",
    "    \n",
    "    a = []\n",
    "    for i in range(norm, -resolution, -1) :\n",
    "        p_git = math.floor(epsilon/(p**i))\n",
    "        epsilon -= p_git*(p**i)\n",
    "        a.append(p_git)\n",
    "        \n",
    "    return norm, a, resolution, p"
   ]
  },
  {
   "cell_type": "markdown",
   "id": "3b3ec527-0a17-45f8-8b7f-56a141830615",
   "metadata": {},
   "source": [
    "Testing:\n",
    "\n",
    "* **Need to fix `pAdic.rational` attribute...**"
   ]
  },
  {
   "cell_type": "code",
   "execution_count": 60,
   "id": "8e08caea-a84f-4c21-ab15-05829aea8537",
   "metadata": {},
   "outputs": [
    {
     "name": "stdout",
     "output_type": "stream",
     "text": [
      "\n",
      "p-adic order: 2\n",
      "\n",
      "p-adic digits: [1, 0, 0, 0, 1, 2, 1, 1, 0, 2, 2, 2, 1, 2, 2, 1, 1, 2, 0, 1, 0]\n",
      "\n",
      "p-adic resolution: 19 \n",
      "\n",
      "9.20299999931083\n",
      "3\n",
      "[1, 0, 0, 0, 1, 2, 1, 1, 0, 2, 2, 2, 1, 2, 2, 1, 1, 2, 0, 1, 0]\n",
      "13425648192\n"
     ]
    }
   ],
   "source": [
    "output = to_pAdic(9.203, 3, 19)\n",
    "N = output[0]\n",
    "L = output[1]\n",
    "m = output[2]\n",
    "\n",
    "print('\\np-adic order:', N)\n",
    "print('\\np-adic digits:', L)\n",
    "print('\\np-adic resolution:', m,'\\n')\n",
    "\n",
    "a = 0\n",
    "for k, b in enumerate(L):\n",
    "    a += b*3**(N-k)\n",
    "    \n",
    "print(a)\n",
    "\n",
    "A = pAdic(3, L, N)\n",
    "print(A.base)\n",
    "print(A.p_gits)\n",
    "print(A.rational)"
   ]
  },
  {
   "cell_type": "code",
   "execution_count": null,
   "id": "785fb6e4-13c7-4fca-842b-2bba318dd6e4",
   "metadata": {},
   "outputs": [],
   "source": []
  }
 ],
 "metadata": {
  "kernelspec": {
   "display_name": "Python 3 (ipykernel)",
   "language": "python",
   "name": "python3"
  },
  "language_info": {
   "codemirror_mode": {
    "name": "ipython",
    "version": 3
   },
   "file_extension": ".py",
   "mimetype": "text/x-python",
   "name": "python",
   "nbconvert_exporter": "python",
   "pygments_lexer": "ipython3",
   "version": "3.8.8"
  }
 },
 "nbformat": 4,
 "nbformat_minor": 5
}
